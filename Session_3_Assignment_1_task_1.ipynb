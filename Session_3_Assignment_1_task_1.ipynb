{
 "cells": [
  {
   "cell_type": "markdown",
   "metadata": {},
   "source": [
    "# 1.1 Write a function to compute 5/0 and use try/except to catch the exceptions.\n"
   ]
  },
  {
   "cell_type": "code",
   "execution_count": 1,
   "metadata": {},
   "outputs": [
    {
     "name": "stdout",
     "output_type": "stream",
     "text": [
      "Error dividing by zero\n"
     ]
    }
   ],
   "source": [
    "try:\n",
    "    x = 5 / 0\n",
    "except:\n",
    "    print(\"Error dividing by zero\")"
   ]
  },
  {
   "cell_type": "markdown",
   "metadata": {},
   "source": [
    "# 1.2 Implement a Python program to generate all sentences where subject is in [\"Americans\", \"Indians\"] and verb is in [\"Play\", \"watch\"] and the object is in [\"Baseball\",\"cricket\"].\n"
   ]
  },
  {
   "cell_type": "code",
   "execution_count": 10,
   "metadata": {},
   "outputs": [
    {
     "name": "stdout",
     "output_type": "stream",
     "text": [
      "Americans Play Baseball\n",
      "Americans Play cricket\n",
      "Americans watch Baseball\n",
      "Americans watch cricket\n",
      "Indians Play Baseball\n",
      "Indians Play cricket\n",
      "Indians watch Baseball\n",
      "Indians watch cricket\n"
     ]
    }
   ],
   "source": [
    "subject=[\"Americans\", \"Indians\"]\n",
    "verb=[\"Play\", \"watch\"]\n",
    "obj=[\"Baseball\",\"cricket\"]\n",
    "for sub in subject:\n",
    "    for vb in verb:\n",
    "        for ob in obj:\n",
    "            print(sub+\" \"+vb+\" \"+ob)"
   ]
  },
  {
   "cell_type": "code",
   "execution_count": null,
   "metadata": {},
   "outputs": [],
   "source": []
  }
 ],
 "metadata": {
  "kernelspec": {
   "display_name": "Python 3",
   "language": "python",
   "name": "python3"
  },
  "language_info": {
   "codemirror_mode": {
    "name": "ipython",
    "version": 3
   },
   "file_extension": ".py",
   "mimetype": "text/x-python",
   "name": "python",
   "nbconvert_exporter": "python",
   "pygments_lexer": "ipython3",
   "version": "3.7.6"
  }
 },
 "nbformat": 4,
 "nbformat_minor": 4
}
